{
 "cells": [
  {
   "cell_type": "markdown",
   "metadata": {
    "editable": true
   },
   "source": [
    "# ETL Processes\n",
    "Use this notebook to develop the ETL process for each of your tables before completing the `etl.py` file to load the whole datasets."
   ]
  },
  {
   "cell_type": "markdown",
   "metadata": {
    "editable": true
   },
   "source": [
    "#### Standard Libraries"
   ]
  },
  {
   "cell_type": "code",
   "execution_count": 1,
   "metadata": {
    "editable": true
   },
   "outputs": [],
   "source": [
    "import os\n",
    "import glob\n",
    "import psycopg2\n",
    "import pandas as pd\n",
    "import json\n",
    "from io import StringIO\n",
    "import logging\n",
    "import datetime"
   ]
  },
  {
   "cell_type": "markdown",
   "metadata": {
    "editable": true
   },
   "source": [
    "#### Custom Libraries"
   ]
  },
  {
   "cell_type": "code",
   "execution_count": 2,
   "metadata": {
    "editable": true
   },
   "outputs": [],
   "source": [
    "from postgre import Postgre"
   ]
  },
  {
   "cell_type": "markdown",
   "metadata": {
    "editable": true
   },
   "source": [
    "#### Setting Up Logging"
   ]
  },
  {
   "cell_type": "code",
   "execution_count": 3,
   "metadata": {
    "editable": true
   },
   "outputs": [],
   "source": [
    "logger = logging.getLogger()\n",
    "logger.setLevel(logging.INFO)\n",
    "logger.addHandler(logging.StreamHandler())"
   ]
  },
  {
   "cell_type": "markdown",
   "metadata": {
    "editable": true
   },
   "source": [
    "### Utility Functions\n",
    "The functions below serve as utility throughout the code to perform simple operations"
   ]
  },
  {
   "cell_type": "code",
   "execution_count": 4,
   "metadata": {
    "editable": true
   },
   "outputs": [],
   "source": [
    "def get_json_data(filepath):\n",
    "    for root, dirs, files in os.walk(filepath):\n",
    "        files = glob.glob(os.path.join(root,'*.json'))\n",
    "        for file in files :\n",
    "            with open(os.path.abspath(file), 'r') as f:\n",
    "                try:\n",
    "                    yield json.load(f)\n",
    "                except:\n",
    "                    with open(os.path.abspath(file), 'r') as f:\n",
    "                        for line in f.readlines():\n",
    "                            try:\n",
    "                                yield json.loads(line)\n",
    "                            except:\n",
    "                                yield None\n"
   ]
  },
  {
   "cell_type": "code",
   "execution_count": 5,
   "metadata": {
    "editable": true
   },
   "outputs": [],
   "source": [
    "def df_rows_to_list(df:pd.DataFrame, number_of_rows:int=None):\n",
    "    list_of_row_values = []\n",
    "    number_of_rows = number_of_rows if number_of_rows else df.shape[0]\n",
    "    for index in range(0, number_of_rows):\n",
    "        list_of_row_values.append(list(df.values[index]))\n",
    "    \n",
    "    return list_of_row_values"
   ]
  },
  {
   "cell_type": "code",
   "execution_count": 6,
   "metadata": {
    "editable": true
   },
   "outputs": [],
   "source": [
    "def list_to_string_io(list_of_entries:list):\n",
    "    \"\"\"\n",
    "    Return file like object of the type StringIO from a given list of list of strings.\n",
    "    Argument:\n",
    "        - list_of_entries {list} - list of list of strings to transform to StringIO\n",
    "    Example:\n",
    "        [\n",
    "             ['AR8IEZO1187B99055E', 'SOINLJW12A8C13314C', 'City Slickers', 2008, 149.86404],\n",
    "             ['AR558FS1187FB45658', 'SOGDBUF12A8C140FAA', 'Intro', 2003, 75.67628]\n",
    "        ]\n",
    "        \n",
    "    Return:\n",
    "        {StringIO} - file type object with values in input list concatenated.\n",
    "    \n",
    "    Example:\n",
    "        'AR8IEZO1187B99055E\\tSOINLJW12A8C13314C\\tCity Slickers\\t2008\\t149.86404\\n\n",
    "         AR558FS1187FB45658\\tSOGDBUF12A8C140FAA\\tIntro\\t2003\\t75.67628'\n",
    "    \"\"\"\n",
    "    return StringIO('\\n'.join(['\\t'.join([str(entry) for entry in set_of_entries]) for set_of_entries in list_of_entries]))"
   ]
  },
  {
   "cell_type": "markdown",
   "metadata": {
    "editable": true
   },
   "source": [
    "## Establish Connection to Postgre and Create Sparkify Database"
   ]
  },
  {
   "cell_type": "code",
   "execution_count": 7,
   "metadata": {
    "editable": true
   },
   "outputs": [
    {
     "name": "stderr",
     "output_type": "stream",
     "text": [
      "Connection Established to: studentdb\n",
      "Database sparkifydb dropped: True\n",
      "Database sparkifydb created: True\n",
      "Connection Established to: sparkifydb\n"
     ]
    }
   ],
   "source": [
    "sparkifydb = 'sparkifydb'\n",
    "Postgre('studentdb').create_database(sparkifydb)\n",
    "postgre = Postgre(sparkifydb)"
   ]
  },
  {
   "cell_type": "markdown",
   "metadata": {
    "editable": true
   },
   "source": [
    "# Process `song_data`"
   ]
  },
  {
   "cell_type": "code",
   "execution_count": 8,
   "metadata": {
    "editable": true
   },
   "outputs": [
    {
     "data": {
      "text/html": [
       "<div>\n",
       "<style scoped>\n",
       "    .dataframe tbody tr th:only-of-type {\n",
       "        vertical-align: middle;\n",
       "    }\n",
       "\n",
       "    .dataframe tbody tr th {\n",
       "        vertical-align: top;\n",
       "    }\n",
       "\n",
       "    .dataframe thead th {\n",
       "        text-align: right;\n",
       "    }\n",
       "</style>\n",
       "<table border=\"1\" class=\"dataframe\">\n",
       "  <thead>\n",
       "    <tr style=\"text-align: right;\">\n",
       "      <th></th>\n",
       "      <th>artist_id</th>\n",
       "      <th>artist_latitude</th>\n",
       "      <th>artist_location</th>\n",
       "      <th>artist_longitude</th>\n",
       "      <th>artist_name</th>\n",
       "      <th>duration</th>\n",
       "      <th>num_songs</th>\n",
       "      <th>song_id</th>\n",
       "      <th>title</th>\n",
       "      <th>year</th>\n",
       "    </tr>\n",
       "  </thead>\n",
       "  <tbody>\n",
       "    <tr>\n",
       "      <th>39</th>\n",
       "      <td>ARAJPHH1187FB5566A</td>\n",
       "      <td>40.70380</td>\n",
       "      <td>Queens, NY</td>\n",
       "      <td>-73.83168</td>\n",
       "      <td>The Shangri-Las</td>\n",
       "      <td>164.80608</td>\n",
       "      <td>1</td>\n",
       "      <td>SOYTPEP12AB0180E7B</td>\n",
       "      <td>Twist and Shout</td>\n",
       "      <td>1964</td>\n",
       "    </tr>\n",
       "    <tr>\n",
       "      <th>54</th>\n",
       "      <td>ARL7K851187B99ACD2</td>\n",
       "      <td>NaN</td>\n",
       "      <td></td>\n",
       "      <td>NaN</td>\n",
       "      <td>Andy Andy</td>\n",
       "      <td>226.35057</td>\n",
       "      <td>1</td>\n",
       "      <td>SOMUYGI12AB0188633</td>\n",
       "      <td>La Culpa</td>\n",
       "      <td>0</td>\n",
       "    </tr>\n",
       "    <tr>\n",
       "      <th>38</th>\n",
       "      <td>ARGIWFO1187B9B55B7</td>\n",
       "      <td>NaN</td>\n",
       "      <td></td>\n",
       "      <td>NaN</td>\n",
       "      <td>Five Bolt Main</td>\n",
       "      <td>225.09669</td>\n",
       "      <td>1</td>\n",
       "      <td>SOPSWQW12A6D4F8781</td>\n",
       "      <td>Made Like This (Live)</td>\n",
       "      <td>0</td>\n",
       "    </tr>\n",
       "    <tr>\n",
       "      <th>11</th>\n",
       "      <td>ARLTWXK1187FB5A3F8</td>\n",
       "      <td>32.74863</td>\n",
       "      <td>Fort Worth, TX</td>\n",
       "      <td>-97.32925</td>\n",
       "      <td>King Curtis</td>\n",
       "      <td>326.00771</td>\n",
       "      <td>1</td>\n",
       "      <td>SODREIN12A58A7F2E5</td>\n",
       "      <td>A Whiter Shade Of Pale (Live @ Fillmore West)</td>\n",
       "      <td>0</td>\n",
       "    </tr>\n",
       "    <tr>\n",
       "      <th>31</th>\n",
       "      <td>AR7ZKHQ1187B98DD73</td>\n",
       "      <td>NaN</td>\n",
       "      <td></td>\n",
       "      <td>NaN</td>\n",
       "      <td>Glad</td>\n",
       "      <td>270.60200</td>\n",
       "      <td>1</td>\n",
       "      <td>SOTUKVB12AB0181477</td>\n",
       "      <td>Blessed Assurance</td>\n",
       "      <td>1993</td>\n",
       "    </tr>\n",
       "  </tbody>\n",
       "</table>\n",
       "</div>"
      ],
      "text/plain": [
       "             artist_id  artist_latitude artist_location  artist_longitude  \\\n",
       "39  ARAJPHH1187FB5566A         40.70380      Queens, NY         -73.83168   \n",
       "54  ARL7K851187B99ACD2              NaN                               NaN   \n",
       "38  ARGIWFO1187B9B55B7              NaN                               NaN   \n",
       "11  ARLTWXK1187FB5A3F8         32.74863  Fort Worth, TX         -97.32925   \n",
       "31  AR7ZKHQ1187B98DD73              NaN                               NaN   \n",
       "\n",
       "        artist_name   duration  num_songs             song_id  \\\n",
       "39  The Shangri-Las  164.80608          1  SOYTPEP12AB0180E7B   \n",
       "54        Andy Andy  226.35057          1  SOMUYGI12AB0188633   \n",
       "38   Five Bolt Main  225.09669          1  SOPSWQW12A6D4F8781   \n",
       "11      King Curtis  326.00771          1  SODREIN12A58A7F2E5   \n",
       "31             Glad  270.60200          1  SOTUKVB12AB0181477   \n",
       "\n",
       "                                            title  year  \n",
       "39                                Twist and Shout  1964  \n",
       "54                                       La Culpa     0  \n",
       "38                          Made Like This (Live)     0  \n",
       "11  A Whiter Shade Of Pale (Live @ Fillmore West)     0  \n",
       "31                              Blessed Assurance  1993  "
      ]
     },
     "execution_count": 8,
     "metadata": {},
     "output_type": "execute_result"
    }
   ],
   "source": [
    "songs_filepath = \"./data/song_data\"\n",
    "songs_data =[json_data for json_data in get_json_data(songs_filepath) if json_data]\n",
    "songs_df = pd.DataFrame.from_dict(songs_data)\n",
    "songs_df.sample(5)"
   ]
  },
  {
   "cell_type": "markdown",
   "metadata": {
    "editable": true
   },
   "source": [
    "### Establish Tables Info"
   ]
  },
  {
   "cell_type": "code",
   "execution_count": 34,
   "metadata": {
    "editable": true
   },
   "outputs": [],
   "source": [
    "songs_table_name = \"songs\"\n",
    "artists_table_name = \"artists\"\n",
    "time_table_name = \"time\"\n",
    "users_table_name = \"users\"\n",
    "songsplay_table_name = 'songplays'\n",
    "table_info ={\n",
    "    songs_table_name: {'artist_id': 'CHAR(18) NOT NULL',\n",
    "                       'song_id': 'CHAR(18) NOT NULL',\n",
    "                       'title': 'VARCHAR(100)',\n",
    "                       'year': 'INTEGER',\n",
    "                       'duration':'REAL'\n",
    "                      },\n",
    "    artists_table_name: {'artist_id': 'CHAR(18) NOT NULL',\n",
    "                         'artist_name': 'VARCHAR(100)',\n",
    "                         'artist_location': 'VARCHAR(100)',\n",
    "                         'artist_latitude': 'REAL',\n",
    "                         'artist_longitude':'REAL'\n",
    "                      },\n",
    "    time_table_name: {'day': 'INTEGER',\n",
    "                      'hour': 'INTEGER',\n",
    "                      'month': 'INTEGER',\n",
    "                      'timestamp': 'TIMESTAMP(6)',\n",
    "                      'week': 'INTEGER',\n",
    "                      'weekday': 'INTEGER',\n",
    "                      'year': 'INTEGER',       \n",
    "                    },\n",
    "    users_table_name: {'userId': 'INTEGER',\n",
    "                      'firstName': 'VARCHAR(55)',\n",
    "                      'lastName': 'VARCHAR(55)',\n",
    "                      'gender': 'CHAR(1)',\n",
    "                      'level': 'CHAR(10)'   \n",
    "                        },\n",
    "    songsplay_table_name:{\n",
    "                \"ts\":\"BIGINT\",\n",
    "                 \"userId\":\"INTEGER\",\n",
    "                 \"level\":\"CHAR(10)\",\n",
    "                 \"song_id\":\"CHAR(18)\",\n",
    "                 \"artist_id\":\"CHAR(18)\",\n",
    "                 \"sessionId\":\"INTEGER\",\n",
    "                 \"location\":\"VARCHAR(255)\",\n",
    "                 \"userAgent\":\"VARCHAR(255)\",\n",
    "        }\n",
    "    }"
   ]
  },
  {
   "cell_type": "markdown",
   "metadata": {
    "editable": true
   },
   "source": [
    "## #1: `songs` Table\n",
    "#### Extract Data for Songs Table\n",
    "- Select columns for song ID, title, artist ID, year, and duration\n",
    "- Use `df.values` to select just the values from the dataframe\n",
    "- Index to select the first (only) record in the dataframe\n",
    "- Convert the array to a list and set it to `song_data`"
   ]
  },
  {
   "cell_type": "markdown",
   "metadata": {
    "editable": true
   },
   "source": [
    "#### Insert Record into Song Table\n",
    "Implement the `song_table_insert` query in `sql_queries.py` and run the cell below to insert a record for this song into the `songs` table. Remember to run `create_tables.py` before running the cell below to ensure you've created/resetted the `songs` table in the sparkify database"
   ]
  },
  {
   "cell_type": "markdown",
   "metadata": {
    "editable": true
   },
   "source": [
    "#### Select Single Row from DF and Transform it to String IO"
   ]
  },
  {
   "cell_type": "code",
   "execution_count": 10,
   "metadata": {
    "editable": true
   },
   "outputs": [
    {
     "data": {
      "text/plain": [
       "[['AR8IEZO1187B99055E',\n",
       "  'SOINLJW12A8C13314C',\n",
       "  'City Slickers',\n",
       "  2008,\n",
       "  149.86404]]"
      ]
     },
     "execution_count": 10,
     "metadata": {},
     "output_type": "execute_result"
    }
   ],
   "source": [
    "column_names = list(table_info.get(songs_table_name).keys())\n",
    "song_selected_df = songs_df[column_names]\n",
    "song_data = df_rows_to_list(song_selected_df, number_of_rows=1)\n",
    "file_object = list_to_string_io(song_data)\n",
    "song_data"
   ]
  },
  {
   "cell_type": "markdown",
   "metadata": {
    "editable": true
   },
   "source": [
    "#### Create Song Table and Insert Single Record"
   ]
  },
  {
   "cell_type": "code",
   "execution_count": 11,
   "metadata": {
    "editable": true
   },
   "outputs": [
    {
     "name": "stderr",
     "output_type": "stream",
     "text": [
      "Table songs dropped: True\n",
      "Table songs created: True\n",
      "Inserted 1 Records to Table songs\n"
     ]
    }
   ],
   "source": [
    "postgre.create_table(table_name=songs_table_name, columns_dict=table_info.get(songs_table_name))\n",
    "postgre.copy_to_table(file_object, table_name=songs_table_name, columns=column_names)"
   ]
  },
  {
   "cell_type": "markdown",
   "metadata": {
    "editable": true
   },
   "source": [
    "#### Verify Record got Inserted"
   ]
  },
  {
   "cell_type": "code",
   "execution_count": 12,
   "metadata": {
    "editable": true
   },
   "outputs": [
    {
     "data": {
      "text/plain": [
       "[{'artist_id': 'AR8IEZO1187B99055E',\n",
       "  'song_id': 'SOINLJW12A8C13314C',\n",
       "  'title': 'City Slickers',\n",
       "  'year': 2008,\n",
       "  'duration': 149.864}]"
      ]
     },
     "execution_count": 12,
     "metadata": {},
     "output_type": "execute_result"
    }
   ],
   "source": [
    "results = postgre._execute_query(\"select * from songs;\", results=True)\n",
    "results"
   ]
  },
  {
   "cell_type": "markdown",
   "metadata": {
    "editable": true
   },
   "source": [
    "## #2: `artists` Table\n",
    "#### Extract Data for Artists Table\n",
    "- Select columns for artist ID, name, location, latitude, and longitude\n",
    "- Use `df.values` to select just the values from the dataframe\n",
    "- Index to select the first (only) record in the dataframe\n",
    "- Convert the array to a list and set it to `artist_data`"
   ]
  },
  {
   "cell_type": "markdown",
   "metadata": {
    "editable": true
   },
   "source": [
    "#### Insert Record into Artist Table\n",
    "Implement the `artist_table_insert` query in `sql_queries.py` and run the cell below to insert a record for this song's artist into the `artists` table. Remember to run `create_tables.py` before running the cell below to ensure you've created/resetted the `artists` table in the sparkify database."
   ]
  },
  {
   "cell_type": "code",
   "execution_count": 13,
   "metadata": {
    "editable": true
   },
   "outputs": [
    {
     "data": {
      "text/plain": [
       "[['AR8IEZO1187B99055E', 'Marc Shaiman', '', nan, nan]]"
      ]
     },
     "execution_count": 13,
     "metadata": {},
     "output_type": "execute_result"
    }
   ],
   "source": [
    "column_names = list(table_info.get(artists_table_name).keys())\n",
    "artist_df = songs_df[column_names]\n",
    "artist_data = df_rows_to_list(artist_df, number_of_rows=1)\n",
    "file_object = list_to_string_io(artist_data)\n",
    "artist_data"
   ]
  },
  {
   "cell_type": "code",
   "execution_count": 14,
   "metadata": {
    "editable": true
   },
   "outputs": [
    {
     "name": "stderr",
     "output_type": "stream",
     "text": [
      "Table artists dropped: True\n",
      "Table artists created: True\n",
      "Inserted 1 Records to Table artists\n"
     ]
    }
   ],
   "source": [
    "postgre.create_table(table_name=artists_table_name, columns_dict=table_info.get(artists_table_name))\n",
    "postgre.copy_to_table(file_object, table_name=artists_table_name, columns=column_names)"
   ]
  },
  {
   "cell_type": "code",
   "execution_count": 15,
   "metadata": {
    "editable": true
   },
   "outputs": [
    {
     "data": {
      "text/plain": [
       "[{'artist_id': 'AR8IEZO1187B99055E',\n",
       "  'artist_name': 'Marc Shaiman',\n",
       "  'artist_location': None,\n",
       "  'artist_latitude': nan,\n",
       "  'artist_longitude': nan}]"
      ]
     },
     "execution_count": 15,
     "metadata": {},
     "output_type": "execute_result"
    }
   ],
   "source": [
    "results = postgre._execute_query(\"select * from artists;\", results=True)\n",
    "results"
   ]
  },
  {
   "cell_type": "markdown",
   "metadata": {
    "editable": true
   },
   "source": [
    "# Process `log_data`\n",
    "In this part, you'll perform ETL on the second dataset, `log_data`, to create the `time` and `users` dimensional tables, as well as the `songplays` fact table.\n",
    "\n",
    "Let's perform ETL on a single log file and load a single record into each table.\n",
    "- Use the `get_files` function provided above to get a list of all log JSON files in `data/log_data`\n",
    "- Select the first log file in this list\n",
    "- Read the log file and view the data"
   ]
  },
  {
   "cell_type": "code",
   "execution_count": 16,
   "metadata": {
    "editable": true
   },
   "outputs": [
    {
     "data": {
      "text/html": [
       "<div>\n",
       "<style scoped>\n",
       "    .dataframe tbody tr th:only-of-type {\n",
       "        vertical-align: middle;\n",
       "    }\n",
       "\n",
       "    .dataframe tbody tr th {\n",
       "        vertical-align: top;\n",
       "    }\n",
       "\n",
       "    .dataframe thead th {\n",
       "        text-align: right;\n",
       "    }\n",
       "</style>\n",
       "<table border=\"1\" class=\"dataframe\">\n",
       "  <thead>\n",
       "    <tr style=\"text-align: right;\">\n",
       "      <th></th>\n",
       "      <th>artist</th>\n",
       "      <th>auth</th>\n",
       "      <th>firstName</th>\n",
       "      <th>gender</th>\n",
       "      <th>itemInSession</th>\n",
       "      <th>lastName</th>\n",
       "      <th>length</th>\n",
       "      <th>level</th>\n",
       "      <th>location</th>\n",
       "      <th>method</th>\n",
       "      <th>page</th>\n",
       "      <th>registration</th>\n",
       "      <th>sessionId</th>\n",
       "      <th>song</th>\n",
       "      <th>status</th>\n",
       "      <th>ts</th>\n",
       "      <th>userAgent</th>\n",
       "      <th>userId</th>\n",
       "    </tr>\n",
       "  </thead>\n",
       "  <tbody>\n",
       "    <tr>\n",
       "      <th>1340</th>\n",
       "      <td>None</td>\n",
       "      <td>Logged In</td>\n",
       "      <td>Jordan</td>\n",
       "      <td>F</td>\n",
       "      <td>0</td>\n",
       "      <td>Rodriguez</td>\n",
       "      <td>NaN</td>\n",
       "      <td>free</td>\n",
       "      <td>Los Angeles-Long Beach-Anaheim, CA</td>\n",
       "      <td>GET</td>\n",
       "      <td>Home</td>\n",
       "      <td>1.540993e+12</td>\n",
       "      <td>902</td>\n",
       "      <td>None</td>\n",
       "      <td>200</td>\n",
       "      <td>1543584463796</td>\n",
       "      <td>Mozilla/5.0 (Windows NT 6.1; WOW64; rv:31.0) G...</td>\n",
       "      <td>68</td>\n",
       "    </tr>\n",
       "    <tr>\n",
       "      <th>590</th>\n",
       "      <td>Pixies</td>\n",
       "      <td>Logged In</td>\n",
       "      <td>Matthew</td>\n",
       "      <td>M</td>\n",
       "      <td>74</td>\n",
       "      <td>Jones</td>\n",
       "      <td>229.30240</td>\n",
       "      <td>paid</td>\n",
       "      <td>Janesville-Beloit, WI</td>\n",
       "      <td>PUT</td>\n",
       "      <td>NextSong</td>\n",
       "      <td>1.541063e+12</td>\n",
       "      <td>957</td>\n",
       "      <td>Where Is My Mind?</td>\n",
       "      <td>200</td>\n",
       "      <td>1543350181796</td>\n",
       "      <td>\"Mozilla/5.0 (Windows NT 5.1) AppleWebKit/537....</td>\n",
       "      <td>36</td>\n",
       "    </tr>\n",
       "    <tr>\n",
       "      <th>182</th>\n",
       "      <td>The Strokes</td>\n",
       "      <td>Logged In</td>\n",
       "      <td>Chloe</td>\n",
       "      <td>F</td>\n",
       "      <td>53</td>\n",
       "      <td>Cuevas</td>\n",
       "      <td>155.34975</td>\n",
       "      <td>paid</td>\n",
       "      <td>San Francisco-Oakland-Hayward, CA</td>\n",
       "      <td>PUT</td>\n",
       "      <td>NextSong</td>\n",
       "      <td>1.540941e+12</td>\n",
       "      <td>1041</td>\n",
       "      <td>Is This It</td>\n",
       "      <td>200</td>\n",
       "      <td>1543511966796</td>\n",
       "      <td>Mozilla/5.0 (Windows NT 5.1; rv:31.0) Gecko/20...</td>\n",
       "      <td>49</td>\n",
       "    </tr>\n",
       "    <tr>\n",
       "      <th>5530</th>\n",
       "      <td>None</td>\n",
       "      <td>Logged In</td>\n",
       "      <td>Jacob</td>\n",
       "      <td>M</td>\n",
       "      <td>36</td>\n",
       "      <td>Klein</td>\n",
       "      <td>NaN</td>\n",
       "      <td>paid</td>\n",
       "      <td>Tampa-St. Petersburg-Clearwater, FL</td>\n",
       "      <td>GET</td>\n",
       "      <td>Home</td>\n",
       "      <td>1.540558e+12</td>\n",
       "      <td>294</td>\n",
       "      <td>None</td>\n",
       "      <td>200</td>\n",
       "      <td>1542048506796</td>\n",
       "      <td>\"Mozilla/5.0 (Macintosh; Intel Mac OS X 10_9_4...</td>\n",
       "      <td>73</td>\n",
       "    </tr>\n",
       "    <tr>\n",
       "      <th>1501</th>\n",
       "      <td>Evanescence</td>\n",
       "      <td>Logged In</td>\n",
       "      <td>Rylan</td>\n",
       "      <td>M</td>\n",
       "      <td>45</td>\n",
       "      <td>George</td>\n",
       "      <td>220.34240</td>\n",
       "      <td>paid</td>\n",
       "      <td>Birmingham-Hoover, AL</td>\n",
       "      <td>PUT</td>\n",
       "      <td>NextSong</td>\n",
       "      <td>1.541020e+12</td>\n",
       "      <td>1076</td>\n",
       "      <td>Hello</td>\n",
       "      <td>200</td>\n",
       "      <td>1543600424796</td>\n",
       "      <td>\"Mozilla/5.0 (Macintosh; Intel Mac OS X 10_9_4...</td>\n",
       "      <td>16</td>\n",
       "    </tr>\n",
       "  </tbody>\n",
       "</table>\n",
       "</div>"
      ],
      "text/plain": [
       "           artist       auth firstName gender  itemInSession   lastName  \\\n",
       "1340         None  Logged In    Jordan      F              0  Rodriguez   \n",
       "590        Pixies  Logged In   Matthew      M             74      Jones   \n",
       "182   The Strokes  Logged In     Chloe      F             53     Cuevas   \n",
       "5530         None  Logged In     Jacob      M             36      Klein   \n",
       "1501  Evanescence  Logged In     Rylan      M             45     George   \n",
       "\n",
       "         length level                             location method      page  \\\n",
       "1340        NaN  free   Los Angeles-Long Beach-Anaheim, CA    GET      Home   \n",
       "590   229.30240  paid                Janesville-Beloit, WI    PUT  NextSong   \n",
       "182   155.34975  paid    San Francisco-Oakland-Hayward, CA    PUT  NextSong   \n",
       "5530        NaN  paid  Tampa-St. Petersburg-Clearwater, FL    GET      Home   \n",
       "1501  220.34240  paid                Birmingham-Hoover, AL    PUT  NextSong   \n",
       "\n",
       "      registration  sessionId               song  status             ts  \\\n",
       "1340  1.540993e+12        902               None     200  1543584463796   \n",
       "590   1.541063e+12        957  Where Is My Mind?     200  1543350181796   \n",
       "182   1.540941e+12       1041         Is This It     200  1543511966796   \n",
       "5530  1.540558e+12        294               None     200  1542048506796   \n",
       "1501  1.541020e+12       1076              Hello     200  1543600424796   \n",
       "\n",
       "                                              userAgent userId  \n",
       "1340  Mozilla/5.0 (Windows NT 6.1; WOW64; rv:31.0) G...     68  \n",
       "590   \"Mozilla/5.0 (Windows NT 5.1) AppleWebKit/537....     36  \n",
       "182   Mozilla/5.0 (Windows NT 5.1; rv:31.0) Gecko/20...     49  \n",
       "5530  \"Mozilla/5.0 (Macintosh; Intel Mac OS X 10_9_4...     73  \n",
       "1501  \"Mozilla/5.0 (Macintosh; Intel Mac OS X 10_9_4...     16  "
      ]
     },
     "execution_count": 16,
     "metadata": {},
     "output_type": "execute_result"
    }
   ],
   "source": [
    "logs_filepath = \"./data/log_data\"\n",
    "logs_data =[json_data for json_data in get_json_data(logs_filepath) if json_data]\n",
    "logs_df = pd.DataFrame.from_dict(logs_data)\n",
    "logs_df.sample(5)"
   ]
  },
  {
   "cell_type": "markdown",
   "metadata": {
    "editable": true
   },
   "source": [
    "## #3: `time` Table\n",
    "#### Extract Data for Time Table\n",
    "- Filter records by `NextSong` action\n",
    "- Convert the `ts` timestamp column to datetime\n",
    "  - Hint: the current timestamp is in milliseconds\n",
    "- Extract the timestamp, hour, day, week of year, month, year, and weekday from the `ts` column and set `time_data` to a list containing these values in order\n",
    "  - Hint: use pandas' [`dt` attribute](https://pandas.pydata.org/pandas-docs/stable/reference/api/pandas.Series.dt.html) to access easily datetimelike properties.\n",
    "- Specify labels for these columns and set to `column_labels`\n",
    "- Create a dataframe, `time_df,` containing the time data for this file by combining `column_labels` and `time_data` into a dictionary and converting this into a dataframe"
   ]
  },
  {
   "cell_type": "code",
   "execution_count": 17,
   "metadata": {
    "editable": true
   },
   "outputs": [
    {
     "data": {
      "text/html": [
       "<div>\n",
       "<style scoped>\n",
       "    .dataframe tbody tr th:only-of-type {\n",
       "        vertical-align: middle;\n",
       "    }\n",
       "\n",
       "    .dataframe tbody tr th {\n",
       "        vertical-align: top;\n",
       "    }\n",
       "\n",
       "    .dataframe thead th {\n",
       "        text-align: right;\n",
       "    }\n",
       "</style>\n",
       "<table border=\"1\" class=\"dataframe\">\n",
       "  <thead>\n",
       "    <tr style=\"text-align: right;\">\n",
       "      <th></th>\n",
       "      <th>artist</th>\n",
       "      <th>auth</th>\n",
       "      <th>firstName</th>\n",
       "      <th>gender</th>\n",
       "      <th>itemInSession</th>\n",
       "      <th>lastName</th>\n",
       "      <th>length</th>\n",
       "      <th>level</th>\n",
       "      <th>location</th>\n",
       "      <th>method</th>\n",
       "      <th>page</th>\n",
       "      <th>registration</th>\n",
       "      <th>sessionId</th>\n",
       "      <th>song</th>\n",
       "      <th>status</th>\n",
       "      <th>ts</th>\n",
       "      <th>userAgent</th>\n",
       "      <th>userId</th>\n",
       "    </tr>\n",
       "  </thead>\n",
       "  <tbody>\n",
       "    <tr>\n",
       "      <th>0</th>\n",
       "      <td>Sydney Youngblood</td>\n",
       "      <td>Logged In</td>\n",
       "      <td>Jacob</td>\n",
       "      <td>M</td>\n",
       "      <td>53</td>\n",
       "      <td>Klein</td>\n",
       "      <td>238.07955</td>\n",
       "      <td>paid</td>\n",
       "      <td>Tampa-St. Petersburg-Clearwater, FL</td>\n",
       "      <td>PUT</td>\n",
       "      <td>NextSong</td>\n",
       "      <td>1.540558e+12</td>\n",
       "      <td>954</td>\n",
       "      <td>Ain't No Sunshine</td>\n",
       "      <td>200</td>\n",
       "      <td>1543449657796</td>\n",
       "      <td>\"Mozilla/5.0 (Macintosh; Intel Mac OS X 10_9_4...</td>\n",
       "      <td>73</td>\n",
       "    </tr>\n",
       "    <tr>\n",
       "      <th>1</th>\n",
       "      <td>Gang Starr</td>\n",
       "      <td>Logged In</td>\n",
       "      <td>Layla</td>\n",
       "      <td>F</td>\n",
       "      <td>88</td>\n",
       "      <td>Griffin</td>\n",
       "      <td>151.92771</td>\n",
       "      <td>paid</td>\n",
       "      <td>Lake Havasu City-Kingman, AZ</td>\n",
       "      <td>PUT</td>\n",
       "      <td>NextSong</td>\n",
       "      <td>1.541057e+12</td>\n",
       "      <td>984</td>\n",
       "      <td>My Advice 2 You (Explicit)</td>\n",
       "      <td>200</td>\n",
       "      <td>1543449690796</td>\n",
       "      <td>\"Mozilla/5.0 (Windows NT 6.1; WOW64) AppleWebK...</td>\n",
       "      <td>24</td>\n",
       "    </tr>\n",
       "    <tr>\n",
       "      <th>2</th>\n",
       "      <td>3OH!3</td>\n",
       "      <td>Logged In</td>\n",
       "      <td>Layla</td>\n",
       "      <td>F</td>\n",
       "      <td>89</td>\n",
       "      <td>Griffin</td>\n",
       "      <td>192.52200</td>\n",
       "      <td>paid</td>\n",
       "      <td>Lake Havasu City-Kingman, AZ</td>\n",
       "      <td>PUT</td>\n",
       "      <td>NextSong</td>\n",
       "      <td>1.541057e+12</td>\n",
       "      <td>984</td>\n",
       "      <td>My First Kiss (Feat. Ke$ha) [Album Version]</td>\n",
       "      <td>200</td>\n",
       "      <td>1543449841796</td>\n",
       "      <td>\"Mozilla/5.0 (Windows NT 6.1; WOW64) AppleWebK...</td>\n",
       "      <td>24</td>\n",
       "    </tr>\n",
       "    <tr>\n",
       "      <th>3</th>\n",
       "      <td>RÃÂ¶yksopp</td>\n",
       "      <td>Logged In</td>\n",
       "      <td>Jacob</td>\n",
       "      <td>M</td>\n",
       "      <td>54</td>\n",
       "      <td>Klein</td>\n",
       "      <td>369.81506</td>\n",
       "      <td>paid</td>\n",
       "      <td>Tampa-St. Petersburg-Clearwater, FL</td>\n",
       "      <td>PUT</td>\n",
       "      <td>NextSong</td>\n",
       "      <td>1.540558e+12</td>\n",
       "      <td>954</td>\n",
       "      <td>The Girl and The Robot</td>\n",
       "      <td>200</td>\n",
       "      <td>1543449895796</td>\n",
       "      <td>\"Mozilla/5.0 (Macintosh; Intel Mac OS X 10_9_4...</td>\n",
       "      <td>73</td>\n",
       "    </tr>\n",
       "    <tr>\n",
       "      <th>4</th>\n",
       "      <td>Kajagoogoo</td>\n",
       "      <td>Logged In</td>\n",
       "      <td>Layla</td>\n",
       "      <td>F</td>\n",
       "      <td>90</td>\n",
       "      <td>Griffin</td>\n",
       "      <td>223.55546</td>\n",
       "      <td>paid</td>\n",
       "      <td>Lake Havasu City-Kingman, AZ</td>\n",
       "      <td>PUT</td>\n",
       "      <td>NextSong</td>\n",
       "      <td>1.541057e+12</td>\n",
       "      <td>984</td>\n",
       "      <td>Too Shy</td>\n",
       "      <td>200</td>\n",
       "      <td>1543450033796</td>\n",
       "      <td>\"Mozilla/5.0 (Windows NT 6.1; WOW64) AppleWebK...</td>\n",
       "      <td>24</td>\n",
       "    </tr>\n",
       "  </tbody>\n",
       "</table>\n",
       "</div>"
      ],
      "text/plain": [
       "              artist       auth firstName gender  itemInSession lastName  \\\n",
       "0  Sydney Youngblood  Logged In     Jacob      M             53    Klein   \n",
       "1         Gang Starr  Logged In     Layla      F             88  Griffin   \n",
       "2              3OH!3  Logged In     Layla      F             89  Griffin   \n",
       "3        RÃÂ¶yksopp  Logged In     Jacob      M             54    Klein   \n",
       "4         Kajagoogoo  Logged In     Layla      F             90  Griffin   \n",
       "\n",
       "      length level                             location method      page  \\\n",
       "0  238.07955  paid  Tampa-St. Petersburg-Clearwater, FL    PUT  NextSong   \n",
       "1  151.92771  paid         Lake Havasu City-Kingman, AZ    PUT  NextSong   \n",
       "2  192.52200  paid         Lake Havasu City-Kingman, AZ    PUT  NextSong   \n",
       "3  369.81506  paid  Tampa-St. Petersburg-Clearwater, FL    PUT  NextSong   \n",
       "4  223.55546  paid         Lake Havasu City-Kingman, AZ    PUT  NextSong   \n",
       "\n",
       "   registration  sessionId                                         song  \\\n",
       "0  1.540558e+12        954                            Ain't No Sunshine   \n",
       "1  1.541057e+12        984                   My Advice 2 You (Explicit)   \n",
       "2  1.541057e+12        984  My First Kiss (Feat. Ke$ha) [Album Version]   \n",
       "3  1.540558e+12        954                       The Girl and The Robot   \n",
       "4  1.541057e+12        984                                      Too Shy   \n",
       "\n",
       "   status             ts                                          userAgent  \\\n",
       "0     200  1543449657796  \"Mozilla/5.0 (Macintosh; Intel Mac OS X 10_9_4...   \n",
       "1     200  1543449690796  \"Mozilla/5.0 (Windows NT 6.1; WOW64) AppleWebK...   \n",
       "2     200  1543449841796  \"Mozilla/5.0 (Windows NT 6.1; WOW64) AppleWebK...   \n",
       "3     200  1543449895796  \"Mozilla/5.0 (Macintosh; Intel Mac OS X 10_9_4...   \n",
       "4     200  1543450033796  \"Mozilla/5.0 (Windows NT 6.1; WOW64) AppleWebK...   \n",
       "\n",
       "  userId  \n",
       "0     73  \n",
       "1     24  \n",
       "2     24  \n",
       "3     73  \n",
       "4     24  "
      ]
     },
     "execution_count": 17,
     "metadata": {},
     "output_type": "execute_result"
    }
   ],
   "source": [
    "time_df = logs_df[logs_df['page'] == 'NextSong'].reset_index(drop=True)\n",
    "time_df.head()"
   ]
  },
  {
   "cell_type": "code",
   "execution_count": 18,
   "metadata": {
    "editable": true
   },
   "outputs": [],
   "source": [
    "def convert_timestamp(timestamp_miliseconds_list:list):\n",
    "    series = []\n",
    "    for record in timestamp_miliseconds_list:\n",
    "         series.append(datetime.datetime.fromtimestamp(record/1000.0))\n",
    "    return series\n",
    "\n",
    "time_df = time_df.apply(lambda x: convert_timestamp(x) if x.name == 'ts' else x)"
   ]
  },
  {
   "cell_type": "code",
   "execution_count": 19,
   "metadata": {
    "editable": true
   },
   "outputs": [],
   "source": [
    "time_data = (time_df.ts, time_df.ts.dt.hour, time_df.ts.dt.day, time_df.ts.dt.week, time_df.ts.dt.month, time_df.ts.dt.year, time_df.ts.dt.weekday)\n",
    "column_labels = ('timestamp', 'hour', 'day', 'week', 'month', 'year', 'weekday')"
   ]
  },
  {
   "cell_type": "code",
   "execution_count": 20,
   "metadata": {
    "editable": true
   },
   "outputs": [
    {
     "data": {
      "text/html": [
       "<div>\n",
       "<style scoped>\n",
       "    .dataframe tbody tr th:only-of-type {\n",
       "        vertical-align: middle;\n",
       "    }\n",
       "\n",
       "    .dataframe tbody tr th {\n",
       "        vertical-align: top;\n",
       "    }\n",
       "\n",
       "    .dataframe thead th {\n",
       "        text-align: right;\n",
       "    }\n",
       "</style>\n",
       "<table border=\"1\" class=\"dataframe\">\n",
       "  <thead>\n",
       "    <tr style=\"text-align: right;\">\n",
       "      <th></th>\n",
       "      <th>day</th>\n",
       "      <th>hour</th>\n",
       "      <th>month</th>\n",
       "      <th>timestamp</th>\n",
       "      <th>week</th>\n",
       "      <th>weekday</th>\n",
       "      <th>year</th>\n",
       "    </tr>\n",
       "  </thead>\n",
       "  <tbody>\n",
       "    <tr>\n",
       "      <th>0</th>\n",
       "      <td>29</td>\n",
       "      <td>0</td>\n",
       "      <td>11</td>\n",
       "      <td>2018-11-29 00:00:57.796</td>\n",
       "      <td>48</td>\n",
       "      <td>3</td>\n",
       "      <td>2018</td>\n",
       "    </tr>\n",
       "    <tr>\n",
       "      <th>1</th>\n",
       "      <td>29</td>\n",
       "      <td>0</td>\n",
       "      <td>11</td>\n",
       "      <td>2018-11-29 00:01:30.796</td>\n",
       "      <td>48</td>\n",
       "      <td>3</td>\n",
       "      <td>2018</td>\n",
       "    </tr>\n",
       "    <tr>\n",
       "      <th>2</th>\n",
       "      <td>29</td>\n",
       "      <td>0</td>\n",
       "      <td>11</td>\n",
       "      <td>2018-11-29 00:04:01.796</td>\n",
       "      <td>48</td>\n",
       "      <td>3</td>\n",
       "      <td>2018</td>\n",
       "    </tr>\n",
       "    <tr>\n",
       "      <th>3</th>\n",
       "      <td>29</td>\n",
       "      <td>0</td>\n",
       "      <td>11</td>\n",
       "      <td>2018-11-29 00:04:55.796</td>\n",
       "      <td>48</td>\n",
       "      <td>3</td>\n",
       "      <td>2018</td>\n",
       "    </tr>\n",
       "    <tr>\n",
       "      <th>4</th>\n",
       "      <td>29</td>\n",
       "      <td>0</td>\n",
       "      <td>11</td>\n",
       "      <td>2018-11-29 00:07:13.796</td>\n",
       "      <td>48</td>\n",
       "      <td>3</td>\n",
       "      <td>2018</td>\n",
       "    </tr>\n",
       "  </tbody>\n",
       "</table>\n",
       "</div>"
      ],
      "text/plain": [
       "   day  hour  month               timestamp  week  weekday  year\n",
       "0   29     0     11 2018-11-29 00:00:57.796    48        3  2018\n",
       "1   29     0     11 2018-11-29 00:01:30.796    48        3  2018\n",
       "2   29     0     11 2018-11-29 00:04:01.796    48        3  2018\n",
       "3   29     0     11 2018-11-29 00:04:55.796    48        3  2018\n",
       "4   29     0     11 2018-11-29 00:07:13.796    48        3  2018"
      ]
     },
     "execution_count": 20,
     "metadata": {},
     "output_type": "execute_result"
    }
   ],
   "source": [
    "time_dict = []\n",
    "for index in range(0, len(time_data[0])):\n",
    "    time_dict.append({key:value for key, value in zip(column_labels, (entry[index] for entry in time_data))})\n",
    "time_df = pd.DataFrame(time_dict)\n",
    "time_df.head()"
   ]
  },
  {
   "cell_type": "code",
   "execution_count": 21,
   "metadata": {
    "editable": true
   },
   "outputs": [
    {
     "data": {
      "text/plain": [
       "0"
      ]
     },
     "execution_count": 21,
     "metadata": {},
     "output_type": "execute_result"
    }
   ],
   "source": [
    "column_names = list(table_info.get(time_table_name).keys())\n",
    "file_object = StringIO()\n",
    "time_df.to_csv(file_object, columns=column_names, sep='\\t', header=False, index=False)\n",
    "file_object.seek(0)"
   ]
  },
  {
   "cell_type": "code",
   "execution_count": 22,
   "metadata": {
    "editable": true
   },
   "outputs": [
    {
     "name": "stderr",
     "output_type": "stream",
     "text": [
      "Table time dropped: True\n",
      "Table time created: True\n",
      "Inserted 6820 Records to Table time\n"
     ]
    },
    {
     "data": {
      "text/plain": [
       "{'day': 29,\n",
       " 'hour': 0,\n",
       " 'month': 11,\n",
       " 'timestamp': datetime.datetime(2018, 11, 29, 0, 0, 57, 796000),\n",
       " 'week': 48,\n",
       " 'weekday': 3,\n",
       " 'year': 2018}"
      ]
     },
     "execution_count": 22,
     "metadata": {},
     "output_type": "execute_result"
    }
   ],
   "source": [
    "postgre.create_table(table_name=time_table_name, columns_dict=table_info.get(time_table_name))\n",
    "postgre.copy_to_table(file_object, table_name=time_table_name, columns=column_names)\n",
    "results = postgre._execute_query(\"select * from time;\", results=True)\n",
    "results[0]"
   ]
  },
  {
   "cell_type": "markdown",
   "metadata": {
    "editable": true
   },
   "source": [
    "## #4: `users` Table\n",
    "#### Extract Data for Users Table\n",
    "- Select columns for user ID, first name, last name, gender and level and set to `user_df`"
   ]
  },
  {
   "cell_type": "markdown",
   "metadata": {
    "editable": true
   },
   "source": [
    "#### Insert Records into Users Table\n",
    "Implement the `user_table_insert` query in `sql_queries.py` and run the cell below to insert records for the users in this log file into the `users` table. Remember to run `create_tables.py` before running the cell below to ensure you've created/resetted the `users` table in the sparkify database."
   ]
  },
  {
   "cell_type": "code",
   "execution_count": 23,
   "metadata": {
    "editable": true
   },
   "outputs": [
    {
     "data": {
      "text/plain": [
       "0"
      ]
     },
     "execution_count": 23,
     "metadata": {},
     "output_type": "execute_result"
    }
   ],
   "source": [
    "column_names = list(table_info.get(users_table_name).keys())\n",
    "user_df = logs_df[column_names]\n",
    "file_object = StringIO()\n",
    "user_df.to_csv(file_object, columns=column_names, sep='\\t', header=False, index=False)\n",
    "file_object.seek(0)"
   ]
  },
  {
   "cell_type": "code",
   "execution_count": 24,
   "metadata": {
    "editable": true
   },
   "outputs": [
    {
     "name": "stderr",
     "output_type": "stream",
     "text": [
      "Table users dropped: True\n",
      "Table users created: True\n",
      "Inserted 8056 Records to Table users\n"
     ]
    },
    {
     "data": {
      "text/plain": [
       "{'userid': 73,\n",
       " 'firstname': 'Jacob',\n",
       " 'lastname': 'Klein',\n",
       " 'gender': 'M',\n",
       " 'level': 'paid      '}"
      ]
     },
     "execution_count": 24,
     "metadata": {},
     "output_type": "execute_result"
    }
   ],
   "source": [
    "postgre.create_table(table_name=users_table_name, columns_dict=table_info.get(users_table_name))\n",
    "postgre.copy_to_table(file_object, table_name=users_table_name, columns=column_names)\n",
    "results = postgre._execute_query(\"select * from users;\", results=True)\n",
    "results[0]"
   ]
  },
  {
   "cell_type": "markdown",
   "metadata": {
    "editable": true
   },
   "source": [
    "#### Insert full data to tables"
   ]
  },
  {
   "cell_type": "code",
   "execution_count": 25,
   "metadata": {
    "editable": true
   },
   "outputs": [
    {
     "name": "stderr",
     "output_type": "stream",
     "text": [
      "Table songs dropped: True\n",
      "Table songs created: True\n",
      "Inserted 72 Records to Table songs\n",
      "Table artists dropped: True\n",
      "Table artists created: True\n",
      "Inserted 72 Records to Table artists\n",
      "Table time dropped: True\n",
      "Table time created: True\n",
      "Inserted 6820 Records to Table time\n",
      "Table users dropped: True\n",
      "Table users created: True\n",
      "Inserted 8056 Records to Table users\n"
     ]
    }
   ],
   "source": [
    "tables_dataframes ={\n",
    "    songs_table_name: song_selected_df,\n",
    "    artists_table_name: artist_df,\n",
    "    time_table_name: time_df,\n",
    "    users_table_name: user_df\n",
    "    }\n",
    "for table_name, table_df in tables_dataframes.items():\n",
    "    postgre.create_table(table_name=table_name, columns_dict=table_info.get(table_name))\n",
    "    postgre.copy_dataframe_to_table(table_df, table_name)"
   ]
  },
  {
   "cell_type": "markdown",
   "metadata": {
    "editable": true
   },
   "source": [
    "## #5: `songplays` Table\n",
    "#### Extract Data and Songplays Table\n",
    "This one is a little more complicated since information from the songs table, artists table, and original log file are all needed for the `songplays` table. Since the log file does not specify an ID for either the song or the artist, you'll need to get the song ID and artist ID by querying the songs and artists tables to find matches based on song title, artist name, and song duration time.\n",
    "- Implement the `song_select` query in `sql_queries.py` to find the song ID and artist ID based on the title, artist name, and duration of a song.\n",
    "- Select the timestamp, user ID, level, song ID, artist ID, session ID, location, and user agent and set to `songplay_data`\n",
    "\n",
    "#### Insert Records into Songplays Table\n",
    "- Implement the `songplay_table_insert` query and run the cell below to insert records for the songplay actions in this log file into the `songplays` table. Remember to run `create_tables.py` before running the cell below to ensure you've created/resetted the `songplays` table in the sparkify database."
   ]
  },
  {
   "cell_type": "code",
   "execution_count": 28,
   "metadata": {
    "editable": true
   },
   "outputs": [],
   "source": [
    "def get_song_artist_id(postgre:Postgre, song_title:str, artist_name, song_duration:int):\n",
    "    results = [None, None]\n",
    "    if all((song_title, artist_name, song_duration)):\n",
    "        song_select =\"\"\"SELECT DISTINCT a.song_id, a.artist_id\n",
    "                    FROM {SONGS_TABLE_NAME} a\n",
    "                    FULL JOIN {ARTISTS_TABLE_NAME} b ON a.artist_id = b.artist_id\n",
    "                    WHERE a.title='{SONG_TITLE}'\n",
    "                    -- AND a.duration={SONG_DURATION}\n",
    "                    -- AND b.artist_name='{ARTIST_NAME}'\n",
    "                    \"\"\"\n",
    "\n",
    "        results = postgre._execute_query(song_select.format(\n",
    "                                                    SONGS_TABLE_NAME=songs_table_name,\n",
    "                                                    ARTISTS_TABLE_NAME=artists_table_name,\n",
    "                                                    SONG_TITLE=song_title.replace(\"'\",\"''\"),\n",
    "                                                    SONG_DURATION=song_duration,\n",
    "                                                    ARTIST_NAME=artist_name.replace(\"'\",\"''\") ), \n",
    "                                         results=True)\n",
    "        if results:\n",
    "            results = list(results[0].values())\n",
    "\n",
    "    return results"
   ]
  },
  {
   "cell_type": "code",
   "execution_count": 29,
   "metadata": {
    "editable": true
   },
   "outputs": [],
   "source": [
    "logs_df[['song_id', 'artist_id']] = logs_df.apply(lambda row: pd.Series(get_song_artist_id(postgre, row['song'], row['artist'], row['length'])), axis=1)"
   ]
  },
  {
   "cell_type": "code",
   "execution_count": 35,
   "metadata": {
    "editable": true
   },
   "outputs": [
    {
     "name": "stderr",
     "output_type": "stream",
     "text": [
      "Table songplays dropped: True\n",
      "Table songplays created: True\n",
      "Inserted 8056 Records to Table songplays\n"
     ]
    }
   ],
   "source": [
    "column_names = list(table_info.get(songsplay_table_name).keys())\n",
    "songplay_df = logs_df[column_names]\n",
    "postgre.create_table(table_name=songsplay_table_name, columns_dict=table_info.get(songsplay_table_name))\n",
    "postgre.copy_dataframe_to_table(songplay_df, songsplay_table_name)"
   ]
  },
  {
   "cell_type": "markdown",
   "metadata": {
    "editable": true
   },
   "source": [
    "# Close Connection to Sparkify Database"
   ]
  },
  {
   "cell_type": "code",
   "execution_count": 37,
   "metadata": {
    "editable": true
   },
   "outputs": [],
   "source": [
    "postgre.conn.close()"
   ]
  },
  {
   "cell_type": "markdown",
   "metadata": {
    "editable": true
   },
   "source": [
    "# Implement `etl.py`\n",
    "Use what you've completed in this notebook to implement `etl.py`."
   ]
  },
  {
   "cell_type": "code",
   "execution_count": null,
   "metadata": {
    "editable": true
   },
   "outputs": [],
   "source": [
    "from etl import main\n",
    "main()"
   ]
  }
 ],
 "metadata": {
  "kernelspec": {
   "display_name": "Python 3",
   "language": "python",
   "name": "python3"
  },
  "language_info": {
   "codemirror_mode": {
    "name": "ipython",
    "version": 3
   },
   "file_extension": ".py",
   "mimetype": "text/x-python",
   "name": "python",
   "nbconvert_exporter": "python",
   "pygments_lexer": "ipython3",
   "version": "3.6.3"
  }
 },
 "nbformat": 4,
 "nbformat_minor": 4
}
